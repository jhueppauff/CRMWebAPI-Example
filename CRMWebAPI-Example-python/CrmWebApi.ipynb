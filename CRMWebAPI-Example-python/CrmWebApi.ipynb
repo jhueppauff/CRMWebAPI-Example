{
 "cells": [
  {
   "cell_type": "code",
   "execution_count": null,
   "metadata": {},
   "outputs": [],
   "source": [
    "import http.client\n",
    "import json"
   ]
  },
  {
   "cell_type": "markdown",
   "metadata": {},
   "source": [
    "#### ADFS Client ID"
   ]
  },
  {
   "cell_type": "code",
   "execution_count": null,
   "metadata": {},
   "outputs": [],
   "source": [
    "clientId = \"0000000-00000-0000-0000-000000000000\""
   ]
  },
  {
   "cell_type": "markdown",
   "metadata": {},
   "source": [
    "##### CRM Domain and API Path"
   ]
  },
  {
   "cell_type": "code",
   "execution_count": null,
   "metadata": {},
   "outputs": [],
   "source": [
    "crmDomain = \"crm.domain.org\"\n",
    "crmApiPath = \"/api/data/v8.2/\""
   ]
  },
  {
   "cell_type": "markdown",
   "metadata": {},
   "source": [
    "#### Redirect Uri"
   ]
  },
  {
   "cell_type": "code",
   "execution_count": null,
   "metadata": {},
   "outputs": [],
   "source": [
    "redirectUri = \"app:///\""
   ]
  },
  {
   "cell_type": "markdown",
   "metadata": {},
   "source": [
    "#### ADFS Domain and Identifier"
   ]
  },
  {
   "cell_type": "code",
   "execution_count": null,
   "metadata": {},
   "outputs": [],
   "source": [
    "adfsDomainName = \"adfs.domain.org\"\n",
    "adfsTokenPath = \"/adfs/oauth2/token\"\n",
    "\n",
    "# Identifiere of the Endpoint \n",
    "adfsIdentifier = \"https://identifier.domain.org\""
   ]
  },
  {
   "cell_type": "markdown",
   "metadata": {},
   "source": [
    "#### User Credentials"
   ]
  },
  {
   "cell_type": "code",
   "execution_count": null,
   "metadata": {},
   "outputs": [],
   "source": [
    "username = \"username\"\n",
    "password = \"password\""
   ]
  },
  {
   "cell_type": "markdown",
   "metadata": {},
   "source": [
    "#### ADFS"
   ]
  },
  {
   "cell_type": "code",
   "execution_count": null,
   "metadata": {},
   "outputs": [],
   "source": [
    "crmUrl = \"https://\" + crmDomain + crmApiPath\n",
    "\n",
    "# Get AuthCode form ADFS\n",
    "requestBodyADFS =  \"resource=\" + adfsIdentifier + \"&client_id=\" + clientId + \"&grant_type=password&username=\" + username + \"&password=\" + password + \"&scope=openid&redirect_uri=\" + redirectUri\n",
    "\n",
    "connAdfs = http.client.HTTPSConnection(adfsDomainName)\n"
   ]
  },
  {
   "cell_type": "code",
   "execution_count": null,
   "metadata": {},
   "outputs": [],
   "source": [
    "adfsHeaders = {\n",
    "    'content-type': \"application/x-www-form-urlencoded\",\n",
    "    'cache-control': \"no-cache\",\n",
    "    }"
   ]
  },
  {
   "cell_type": "code",
   "execution_count": null,
   "metadata": {},
   "outputs": [],
   "source": [
    "try:\n",
    "    connAdfs.request(\"POST\", adfsTokenPath , requestBodyADFS, adfsHeaders)\n",
    "except Exception as e:\n",
    "    print (e)\n",
    "    print (type(e))"
   ]
  },
  {
   "cell_type": "code",
   "execution_count": null,
   "metadata": {},
   "outputs": [],
   "source": [
    "adfsResponse = connAdfs.getresponse()\n",
    "data = adfsResponse.read()\n",
    "\n",
    "print(\"ADFS Response:\")\n",
    "print(data.decode(\"utf-8\"))"
   ]
  },
  {
   "cell_type": "code",
   "execution_count": null,
   "metadata": {},
   "outputs": [],
   "source": [
    "token = json.loads(data.decode(\"utf-8\"))\n",
    "authToken = \"Bearer \" + token[\"access_token\"]"
   ]
  },
  {
   "cell_type": "markdown",
   "metadata": {},
   "source": [
    "#### CRM "
   ]
  },
  {
   "cell_type": "code",
   "execution_count": null,
   "metadata": {},
   "outputs": [],
   "source": [
    "connCrm = http.client.HTTPSConnection(crmDomain)\n",
    "\n",
    "crmHeaders = {\n",
    "    \"authorization\" : authToken,\n",
    "    'cache-control': \"no-cache\",\n",
    "    'content-type': \"application/json\"\n",
    "}"
   ]
  },
  {
   "cell_type": "code",
   "execution_count": null,
   "metadata": {},
   "outputs": [],
   "source": [
    "connCrm.request(\"GET\", crmApiPath + \"WhoAmI()\", None, crmHeaders)\n",
    "\n",
    "crmResponse = connCrm.getresponse()"
   ]
  },
  {
   "cell_type": "code",
   "execution_count": null,
   "metadata": {},
   "outputs": [],
   "source": [
    "crmdata = crmResponse.read()"
   ]
  },
  {
   "cell_type": "code",
   "execution_count": null,
   "metadata": {},
   "outputs": [],
   "source": [
    "print(\"CRM Response\")\n",
    "print(crmdata.decode(\"utf-8\"))"
   ]
  },
  {
   "cell_type": "code",
   "execution_count": null,
   "metadata": {},
   "outputs": [],
   "source": []
  }
 ],
 "metadata": {
  "kernelspec": {
   "display_name": "Python 3",
   "language": "python",
   "name": "python3"
  },
  "language_info": {
   "codemirror_mode": {
    "name": "ipython",
    "version": 3
   },
   "file_extension": ".py",
   "mimetype": "text/x-python",
   "name": "python",
   "nbconvert_exporter": "python",
   "pygments_lexer": "ipython3",
   "version": "3.6.3"
  }
 },
 "nbformat": 4,
 "nbformat_minor": 2
}
